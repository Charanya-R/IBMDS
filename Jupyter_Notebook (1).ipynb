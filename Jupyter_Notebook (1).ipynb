{
 "cells": [
  {
   "cell_type": "markdown",
   "metadata": {},
   "source": [
    "<center>\n",
    "    <img src=\"https://cf-courses-data.s3.us.cloud-object-storage.appdomain.cloud/IBMDeveloperSkillsNetwork-DS0105EN-SkillsNetwork/labs/Module2/images/SN_web_lightmode.png\" width=\"300\" alt=\"cognitiveclass.ai logo\">\n",
    "</center>\n"
   ]
  },
  {
   "cell_type": "markdown",
   "metadata": {},
   "source": [
    "#### Add your code below following the instructions given in the course\n"
   ]
  },
  {
   "cell_type": "markdown",
   "metadata": {},
   "source": [
    "# Tools for Data Science - Final Assignment"
   ]
  },
  {
   "cell_type": "markdown",
   "metadata": {},
   "source": [
    "## Introduction: \n",
    "•\tThe Data Science Task Categories include:<br>\n",
    "•\tData Management - storage, management and retrieval of data<br>\n",
    "•\tData Integration and Transformation - streamline data pipelines and automate data processing tasks<br>\n",
    "•\tData Visualization - provide graphical representation of data and assist with communicating insights<br>\n",
    "•\tModelling - enable Building, Deployment, Monitoring and Assessment of Data and Machine Learning models<br>\n",
    "•\tData Science Tasks support the following:<br>\n",
    "•\tCode Asset Management - store & manage code, track changes and allow collaborative development<br>\n",
    "•\tData Asset Management - organize and manage data, provide access control, and backup assets<br>\n",
    "•\tDevelopment Environments - develop, test and deploy code<br>\n",
    "•\tExecution Environments - provide computational resources and run the code<br>\n"
   ]
  },
  {
   "cell_type": "markdown",
   "metadata": {},
   "source": [
    "## Data Science Languages:\n",
    "Python<br>\n",
    "R<br>\n",
    "SQL<br>\n",
    "Scala<br>\n",
    "Java<br>\n",
    "C++<br>\n",
    "Julia<br>\n",
    "JS<br>\n",
    "PHP<br>\n",
    "Go<br>\n",
    "Ruby<br>\n",
    "VisualBasics<br>"
   ]
  },
  {
   "cell_type": "markdown",
   "metadata": {},
   "source": [
    "## Data Science Libraries:\n",
    "Pandas<br>\n",
    "Numpy<br>\n",
    "Matplotlib<br>\n",
    "Seaborn<br>\n",
    "Scikit-learn<br>\n",
    "Keras<br>\n",
    "Vegas<br>\n",
    "BidDL<br>\n",
    "ggplot2<br>"
   ]
  },
  {
   "cell_type": "markdown",
   "metadata": {},
   "source": [
    "## Data Science Tools:\n",
    "OracleDB<br>\n",
    "IBMDB2<br>\n",
    "Informatica<br>\n",
    "IBM infosphere<br>\n",
    "Talend<br>\n",
    "IBM watson studio desktop<br>\n",
    "Tableau<br>\n",
    "Microsoft Power BI<br>\n",
    "IBM cognos analytics<br>\n",
    "SPSS<br>\n",
    "SAS<br>"
   ]
  },
  {
   "cell_type": "markdown",
   "metadata": {},
   "source": [
    "## Introducing Arithmetic Expression:\n",
    "Arithmetic expressions are used as operands of certain conditional and arithmetic statements. An arithmetic expression can consist of any of the following items: An identifier described as a numeric elementary item (including numeric functions) A numeric literal.<br>a+b=c<br>Eg:5+3=8"
   ]
  },
  {
   "cell_type": "code",
   "execution_count": 2,
   "metadata": {},
   "outputs": [
    {
     "name": "stdout",
     "output_type": "stream",
     "text": [
      "Enter first number :10\n",
      "Enter second number :20\n",
      "Sum =  30 \n",
      "Product =  200\n"
     ]
    }
   ],
   "source": [
    "#Code to add and multiply two numbers\n",
    "a=int(input(\"Enter first number :\"))\n",
    "b=int(input(\"Enter second number :\"))\n",
    "sum=a+b\n",
    "product=a*b\n",
    "print(\"Sum = \",sum,\"\\nProduct = \",product)"
   ]
  },
  {
   "cell_type": "code",
   "execution_count": 4,
   "metadata": {},
   "outputs": [
    {
     "name": "stdout",
     "output_type": "stream",
     "text": [
      "Enter minutes : 150\n",
      "Hours =  2.5\n"
     ]
    }
   ],
   "source": [
    "#Code to convert minutes to hours\n",
    "mins=int(input(\"Enter minutes : \"))\n",
    "hrs=mins/60\n",
    "print(\"Hours = \",hrs)"
   ]
  },
  {
   "cell_type": "markdown",
   "metadata": {},
   "source": [
    "## Objectives:\n",
    "To create a jupyter notebook<br>\n",
    "To insert markdown and code cells"
   ]
  },
  {
   "cell_type": "markdown",
   "metadata": {},
   "source": [
    "## Author's Name:\n",
    "Charanya R"
   ]
  },
  {
   "cell_type": "code",
   "execution_count": null,
   "metadata": {},
   "outputs": [],
   "source": []
  }
 ],
 "metadata": {
  "kernelspec": {
   "display_name": "Python 3",
   "language": "python",
   "name": "python3"
  },
  "language_info": {
   "codemirror_mode": {
    "name": "ipython",
    "version": 3
   },
   "file_extension": ".py",
   "mimetype": "text/x-python",
   "name": "python",
   "nbconvert_exporter": "python",
   "pygments_lexer": "ipython3",
   "version": "3.11.3"
  }
 },
 "nbformat": 4,
 "nbformat_minor": 4
}
